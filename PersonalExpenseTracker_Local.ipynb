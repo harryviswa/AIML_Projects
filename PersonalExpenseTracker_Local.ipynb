{
 "cells": [
  {
   "cell_type": "code",
   "execution_count": 40,
   "id": "59cd7d71-76e9-4303-9a49-3588e0f4287e",
   "metadata": {},
   "outputs": [
    {
     "name": "stdout",
     "output_type": "stream",
     "text": [
      "Please select an option from the below list\n",
      "1. View Expense\n",
      "2. Add Expense\n",
      "3. Track Budget\n",
      "4. Set Budget\n",
      "5. Save Expenses\n",
      "6. Exit\n"
     ]
    },
    {
     "name": "stdin",
     "output_type": "stream",
     "text": [
      "Your option:  1\n"
     ]
    },
    {
     "name": "stdout",
     "output_type": "stream",
     "text": [
      "{'Date': '2024-01-01', 'Category': 'Food', 'Amount': 25.0, 'Description': 'Chicken'}\n",
      "{'Date': '2024-02-01', 'Category': 'Travel', 'Amount': 100.0, 'Description': 'Fuel'}\n",
      "\n",
      "\n",
      "------------------------------------\n",
      "Please select an option from the below list\n",
      "1. View Expense\n",
      "2. Add Expense\n",
      "3. Track Budget\n",
      "4. Set Budget\n",
      "5. Save Expenses\n",
      "6. Exit\n"
     ]
    },
    {
     "name": "stdin",
     "output_type": "stream",
     "text": [
      "Your option:  4\n"
     ]
    },
    {
     "name": "stdout",
     "output_type": "stream",
     "text": [
      "Your current expense is:  125.0  with the monthly budget as  200\n",
      "You have 75.00 left for the month.\n"
     ]
    },
    {
     "ename": "NameError",
     "evalue": "name 'update_monthly_budget' is not defined",
     "output_type": "error",
     "traceback": [
      "\u001b[1;31m---------------------------------------------------------------------------\u001b[0m",
      "\u001b[1;31mNameError\u001b[0m                                 Traceback (most recent call last)",
      "Cell \u001b[1;32mIn[40], line 123\u001b[0m\n\u001b[0;32m    119\u001b[0m                 \u001b[38;5;28;01mreturn\u001b[39;00m\n\u001b[0;32m    120\u001b[0m             \u001b[38;5;28mprint\u001b[39m(\u001b[38;5;124m'\u001b[39m\u001b[38;5;130;01m\\n\u001b[39;00m\u001b[38;5;130;01m\\n\u001b[39;00m\u001b[38;5;124m------------------------------------\u001b[39m\u001b[38;5;124m'\u001b[39m)\n\u001b[1;32m--> 123\u001b[0m personal_expense\u001b[38;5;241m.\u001b[39mload_application()\n",
      "Cell \u001b[1;32mIn[40], line 115\u001b[0m, in \u001b[0;36mpersonal_expense.load_application\u001b[1;34m()\u001b[0m\n\u001b[0;32m    113\u001b[0m \u001b[38;5;28;01melif\u001b[39;00m option\u001b[38;5;241m==\u001b[39m\u001b[38;5;241m4\u001b[39m: \n\u001b[0;32m    114\u001b[0m     track_budget()\n\u001b[1;32m--> 115\u001b[0m     update_monthly_budget()\n\u001b[0;32m    116\u001b[0m \u001b[38;5;28;01melif\u001b[39;00m option\u001b[38;5;241m==\u001b[39m\u001b[38;5;241m5\u001b[39m: save_expenses(expenses)\n\u001b[0;32m    117\u001b[0m \u001b[38;5;28;01melif\u001b[39;00m option\u001b[38;5;241m==\u001b[39m\u001b[38;5;241m6\u001b[39m: \n",
      "\u001b[1;31mNameError\u001b[0m: name 'update_monthly_budget' is not defined"
     ]
    }
   ],
   "source": [
    "import csv\n",
    "from datetime import datetime\n",
    "from abc import abstractmethod,ABC\n",
    "\n",
    "class expense(ABC):\n",
    "\n",
    "    @abstractmethod\n",
    "    def add_expense_details():pass\n",
    "\n",
    "    @abstractmethod\n",
    "    def display_expenses():pass\n",
    "\n",
    "    @abstractmethod\n",
    "    def set_monthly_budgets():pass\n",
    "\n",
    "    @abstractmethod\n",
    "    def track_budget():pass\n",
    "\n",
    "    @abstractmethod\n",
    "    def save_expenses(expenses, filename):pass\n",
    "\n",
    "    @abstractmethod\n",
    "    def load_expenses(expenses, filename):pass\n",
    "\n",
    "class personal_expense(expense):\n",
    "\n",
    "    def __init__():\n",
    "        monthly_budget=200.00\n",
    "        expenses=load_expenses()\n",
    "\n",
    "    def update_monthly_budget():\n",
    "        a = input(\"Enter the total budget amount for this month: \")\n",
    "        print('Why am i not printing this? ',a)\n",
    "        monthly_budget=float(a)\n",
    "        track_budget()\n",
    "        return\n",
    "\n",
    "    def add_expense_details():\n",
    "        date = input(\"Enter the date of the expense (YYYY-MM-DD): \")\n",
    "        category = input(\"Enter the category of the expense (e.g., Food, Travel): \")\n",
    "        amount = float(input(\"Enter the amount spent: \"))\n",
    "        description = input(\"Enter a brief description of the expense: \")\n",
    "        \n",
    "        expense = {\n",
    "            'Date': date,\n",
    "            'Category': category,\n",
    "            'Amount': amount,\n",
    "            'Description': description\n",
    "        }\n",
    "\n",
    "        expenses.append(expense)\n",
    "        return\n",
    "    \n",
    "    def display_expenses():\n",
    "        if not expenses:\n",
    "            print(\"No expenses found\")\n",
    "            \n",
    "        for x in expenses:\n",
    "            if len(x['Date'])>0 and len(x['Category'])>0 and 'Amount' in x and len(x['Description'])>0:\n",
    "                print(x)\n",
    "            else:\n",
    "                print(f\"{x} is missing some data\")\n",
    "        return\n",
    "    \n",
    "    def calculate_total_expenses(expenses):\n",
    "        total_expenses = sum(float(expense['Amount']) for expense in expenses if 'Amount' in expense)\n",
    "        print('Your current expense is: ',total_expenses,' with the monthly budget as ',monthly_budget)\n",
    "        return total_expenses\n",
    "    \n",
    "    def track_budget():\n",
    "        total_expenses = calculate_total_expenses(expenses)\n",
    "        if total_expenses > monthly_budget:\n",
    "            print(\"You have exceeded your budget!\")\n",
    "        else:\n",
    "            remaining_balance = monthly_budget - total_expenses\n",
    "            print(f\"You have {remaining_balance:.2f} left for the month.\")\n",
    "    \n",
    "    def save_expenses(expenses, filename=\"expense.csv\"):\n",
    "        with open(filename,mode='w',newline='') as file:\n",
    "            writer=csv.writer(file)\n",
    "            writer.writerow(['Date','Category','Amount','Description'])\n",
    "            for expense in expenses:\n",
    "                writer.writerow(expense.values())\n",
    "        print('Successfully saved your personal expense details')\n",
    "        return        \n",
    "    \n",
    "    \n",
    "    def load_expenses(filename=\"expense.csv\"):\n",
    "        loadedExpenses=[]\n",
    "        try:\n",
    "            with open(filename,mode='r') as file:\n",
    "                reader=csv.DictReader(file)\n",
    "                for row in reader: loadedExpenses.append(row)\n",
    "        except:\n",
    "            print('No file found')\n",
    "        return loadedExpenses\n",
    "\n",
    "           \n",
    "    def load_application():\n",
    "        option=1\n",
    "        while(option>0 and option<6):\n",
    "            print('Please select an option from the below list')\n",
    "            print('1. View Expense')\n",
    "            print('2. Add Expense')\n",
    "            print('3. Track Budget')\n",
    "            print('4. Set Budget')\n",
    "            print('5. Save Expenses')\n",
    "            print('6. Exit')\n",
    "            option=int(input('Your option: '))\n",
    "            if option==1: display_expenses()\n",
    "            elif option==2: add_expense_details()\n",
    "            elif option==3: track_budget()\n",
    "            elif option==4: \n",
    "                track_budget()\n",
    "                update_monthly_budget()\n",
    "            elif option==5: save_expenses(expenses)\n",
    "            elif option==6: \n",
    "                print('Thanks for using this personal expense tracker system')\n",
    "                return\n",
    "            print('\\n\\n------------------------------------')\n",
    "     \n",
    "            \n",
    "personal_expense.load_application()"
   ]
  },
  {
   "cell_type": "code",
   "execution_count": null,
   "id": "483d1b4e-3f3d-4db7-8ba7-b1bf3e50eda4",
   "metadata": {},
   "outputs": [],
   "source": []
  },
  {
   "cell_type": "code",
   "execution_count": null,
   "id": "1b115070-c962-4dca-a648-2b79a5b3fdda",
   "metadata": {},
   "outputs": [],
   "source": []
  }
 ],
 "metadata": {
  "kernelspec": {
   "display_name": "Python 3 (ipykernel)",
   "language": "python",
   "name": "python3"
  },
  "language_info": {
   "codemirror_mode": {
    "name": "ipython",
    "version": 3
   },
   "file_extension": ".py",
   "mimetype": "text/x-python",
   "name": "python",
   "nbconvert_exporter": "python",
   "pygments_lexer": "ipython3",
   "version": "3.12.4"
  }
 },
 "nbformat": 4,
 "nbformat_minor": 5
}
